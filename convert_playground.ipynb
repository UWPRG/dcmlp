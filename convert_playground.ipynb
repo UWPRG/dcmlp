{
 "cells": [
  {
   "cell_type": "code",
   "execution_count": 1,
   "metadata": {},
   "outputs": [],
   "source": [
    "import numpy as np\n",
    "from pytrr import GroTrrReader\n",
    "import pandas as pd\n",
    "from sklearn import utils\n",
    "from tqdm import trange\n",
    "import matplotlib.pyplot as plt\n",
    "import statistics"
   ]
  },
  {
   "cell_type": "code",
   "execution_count": 2,
   "metadata": {},
   "outputs": [],
   "source": [
    "energy_path = 'energy.xvg'\n",
    "trr_path = 'traj.trr'"
   ]
  },
  {
   "cell_type": "code",
   "execution_count": 83,
   "metadata": {},
   "outputs": [],
   "source": [
    "def get_energy_colvar(colvar, frames):\n",
    "    with open('../WTE_1/COLVAR', 'r') as c:\n",
    "        c = c.readlines()\n",
    "    c = [l.rstrip('\\n') for l in c]\n",
    "    energy = []\n",
    "    for e in c[1:frames+1]:\n",
    "    #     print(e.split())\n",
    "        energy.append(e.split()[1])\n",
    "    energy = [float(e)*0.239006 for e in energy] #kj/mol to kcal/mol\n",
    "    energy = np.array(energy)\n",
    "#     print(energy)\n",
    "    return energy"
   ]
  },
  {
   "cell_type": "code",
   "execution_count": 3,
   "metadata": {},
   "outputs": [],
   "source": [
    "def get_energy_xvg(xvg, frames):\n",
    "    with open(xvg,'r') as e:\n",
    "        e = e.readlines()\n",
    "    e = [l.rstrip('\\n') for l in e]\n",
    "    del e[:2000]\n",
    "#     del e[:23]\n",
    "\n",
    "#     idx = len(e) - 1     #make idx file\n",
    "#     idx = np.arange(idx)\n",
    "#     np.random.shuffle(idx)\n",
    "#     np.savetxt('idx.txt', idx)\n",
    "\n",
    "    idx = np.loadtxt('idx.txt') #load idx file\n",
    "    idx = idx.astype(int)\n",
    "    e = np.array(e)\n",
    "    e = e[idx]   #shuffle\n",
    "    energy = []\n",
    "    for c in e[1:frames+1]:\n",
    "        energy.append(c.split()[1])\n",
    "    energy = [float(e)*0.239006 for e in energy] #kj/mol to kcal/mol\n",
    "    energy = np.array(energy)\n",
    "    print(energy.shape)\n",
    "    return energy"
   ]
  },
  {
   "cell_type": "code",
   "execution_count": 16,
   "metadata": {},
   "outputs": [],
   "source": [
    "def get_distribution(energy, traj, n_samples, discard, nmols, npzfile):\n",
    "    \"\"\"\n",
    "    inputs: energy_file, trr_file, \n",
    "            n_samples: no. of frames for the output file, \n",
    "            discard: number of frames to discard from the input file\n",
    "            nmols: number of molecules in the system\n",
    "            npzfile: file output name\n",
    "    \"\"\"\n",
    "    ener_og = np.loadtxt(energy)\n",
    "    ener_og = ener_og[discard:]\n",
    "    print('ener_og shape', ener_og.shape)\n",
    "    \n",
    "    (n, bins, patches) = plt.hist(ener_og[:,1], bins=50) #default bins = 50\n",
    "#     m = statistics.mean(ener_og[:,1])\n",
    "#     plt.axvline(m, color='black')\n",
    "\n",
    "#     sd = statistics.stdev(ener_og[:,1])\n",
    "\n",
    "#     plt.axvline(m + sd, color='red')\n",
    "#     plt.axvline(m - sd, color='red')\n",
    "\n",
    "#     plt.axvline(m + 2*sd, color='red')\n",
    "#     plt.axvline(m - 2*sd, color='red')\n",
    "\n",
    "#     plt.show()\n",
    "    bin_id = []\n",
    "    for ener in range(len(ener_og[:,1])):\n",
    "        for b in range(len(bins)):\n",
    "\n",
    "            if ener_og[:,1][ener] <= bins[b]:\n",
    "                bin_id.append((ener_og[:,1][ener],b))\n",
    "                break\n",
    "    tmp = np.array(bin_id)\n",
    "    tmp_dict = {}\n",
    "    for i in range(len(tmp)):\n",
    "        if int(tmp[i][1]) in tmp_dict:\n",
    "            tmp_dict[int(tmp[i][1])].append(i)\n",
    "        else:\n",
    "            tmp_dict[int(tmp[i][1])] = [i]\n",
    "            \n",
    "    sampled_bins = np.random.choice(np.arange(len(bins)), size=n_samples+100, replace=True)\n",
    "    sampled_frames = []\n",
    "    counter = 0\n",
    "    while len(sampled_frames) < n_samples:\n",
    "        bin_idx = sampled_bins[counter]\n",
    "        try:\n",
    "            frame_idxs = tmp_dict[bin_idx]\n",
    "            sel_frame_idx = np.random.choice(frame_idxs, size=1, replace=False)[0]\n",
    "            sampled_frames.append(sel_frame_idx)\n",
    "        except:\n",
    "            pass\n",
    "        counter += 1\n",
    "    plt.hist(ener_og[sampled_frames,1])\n",
    "    plt.show()\n",
    "    \n",
    "    np.savetxt('sampled_frames.txt', sampled_frames)\n",
    "    \n",
    "    energy = ener_og[sampled_frames,1]\n",
    "    energy = np.multiply(energy,0.239006) #kj/mol to kcal/mol\n",
    "    print('energy_final shape', energy.shape)\n",
    "    \n",
    "    fxyz = []\n",
    "    xyz = []\n",
    "    with GroTrrReader(traj) as trrfile:\n",
    "        for frame in trrfile:\n",
    "            frame_data = trrfile.get_data()\n",
    "            fxyz.append(frame_data['f'])\n",
    "            xyz.append(frame_data['x'])\n",
    "            \n",
    "    fxyz = fxyz[discard:]\n",
    "    xyz = xyz[discard:]\n",
    "    \n",
    "    fxyz = np.array(fxyz)\n",
    "    xyz = np.array(xyz)\n",
    "    \n",
    "    fxyz = fxyz[sampled_frames]\n",
    "    xyz = xyz[sampled_frames]\n",
    "    \n",
    "    fxyz = np.multiply(fxyz, 0.0239006) #kj/mol/nm to kcal/mol/A\n",
    "    xyz = np.multiply(xyz,10) #nm to A\n",
    "    print('fxyz_shape', fxyz.shape)\n",
    "    print('xyz shape', xyz.shape)\n",
    "    w_name = np.array(b'water_trr_xyz')\n",
    "    w_theory = np.array(b'')\n",
    "    w_type = np.array(b'd')\n",
    "    w_z = np.array([8,1,1]*nmols, dtype='uint8')\n",
    "    np.savez(npzfile, E=energy, R=xyz, F=fxyz, theory=w_theory, type=w_type, z=w_z)"
   ]
  },
  {
   "cell_type": "code",
   "execution_count": 17,
   "metadata": {},
   "outputs": [
    {
     "name": "stdout",
     "output_type": "stream",
     "text": [
      "ener_og shape (8000, 2)\n"
     ]
    },
    {
     "data": {
      "image/png": "[encoded data removed]",
      "text/plain": [
       "<Figure size 432x288 with 1 Axes>"
      ]
     },
     "metadata": {
      "needs_background": "light"
     },
     "output_type": "display_data"
    },
    {
     "name": "stdout",
     "output_type": "stream",
     "text": [
      "energy_final shape (200,)\n",
      "fxyz_shape (200, 750, 3)\n",
      "xyz shape (200, 750, 3)\n"
     ]
    }
   ],
   "source": [
    "get_distribution('energy.xvg', 'traj.trr', 200, 2001, 250, 'test.npz')"
   ]
  },
  {
   "cell_type": "code",
   "execution_count": 19,
   "metadata": {},
   "outputs": [],
   "source": [
    "file = np.load('test.npz')"
   ]
  },
  {
   "cell_type": "code",
   "execution_count": 21,
   "metadata": {},
   "outputs": [
    {
     "data": {
      "text/plain": [
       "['E', 'R', 'F', 'theory', 'type', 'z']"
      ]
     },
     "execution_count": 21,
     "metadata": {},
     "output_type": "execute_result"
    }
   ],
   "source": [
    "file.files"
   ]
  },
  {
   "cell_type": "code",
   "execution_count": 4,
   "metadata": {},
   "outputs": [],
   "source": [
    "def make_npz(traj, xvg, frames, npzfile, nmols):\n",
    "    fxyz = []\n",
    "    xyz = []\n",
    "    with GroTrrReader(traj) as trrfile:\n",
    "        for frame in trrfile:\n",
    "            frame_data = trrfile.get_data()\n",
    "            fxyz.append(frame_data['f'])\n",
    "            xyz.append(frame_data['x'])\n",
    "#             if len(xyz) > frames-1:\n",
    "#                 break\n",
    "    #removing 1ns frames\n",
    "    del fxyz[:2000]\n",
    "    del xyz[:2000]\n",
    "    \n",
    "    fxyz = np.array(fxyz)\n",
    "    xyz = np.array(xyz)\n",
    "    \n",
    "    \n",
    "    #shuffling\n",
    "    idx = np.loadtxt('idx.txt')\n",
    "    idx = idx.astype(int)\n",
    "    fxyz = fxyz[idx]\n",
    "    xyz = xyz[idx]\n",
    "    \n",
    "    \n",
    "    fxyz = fxyz[:frames]\n",
    "    xyz = xyz[:frames]\n",
    "    \n",
    "    fxyz = np.multiply(fxyz,0.0239006) #kj/mol/nm to kcal/mol/A\n",
    "    xyz = np.multiply(xyz,10) #nm to A\n",
    "    \n",
    "    energy = get_energy_xvg(xvg, frames)\n",
    "    w_name = np.array(b'water_trr_xyz')\n",
    "    w_theory = np.array(b'')\n",
    "    w_type = np.array(b'd')\n",
    "    w_z = np.array([8,1,1]*nmols, dtype='uint8')\n",
    "    np.savez(npzfile, E=energy, R=xyz, F=fxyz, theory=w_theory, type=w_type, z=w_z)"
   ]
  },
  {
   "cell_type": "code",
   "execution_count": 17,
   "metadata": {},
   "outputs": [
    {
     "name": "stdout",
     "output_type": "stream",
     "text": [
      "(200,)\n"
     ]
    }
   ],
   "source": [
    "make_npz(trr_path, energy_path, 200, 'water250_nvt_200.npz', 250)"
   ]
  },
  {
   "cell_type": "code",
   "execution_count": 3,
   "metadata": {},
   "outputs": [],
   "source": [
    "file = np.load('water250_nvt_200.npz')"
   ]
  },
  {
   "cell_type": "code",
   "execution_count": 4,
   "metadata": {},
   "outputs": [
    {
     "data": {
      "text/plain": [
       "['E', 'R', 'F', 'theory', 'type', 'z']"
      ]
     },
     "execution_count": 4,
     "metadata": {},
     "output_type": "execute_result"
    }
   ],
   "source": [
    "file.files"
   ]
  },
  {
   "cell_type": "code",
   "execution_count": 20,
   "metadata": {},
   "outputs": [
    {
     "data": {
      "text/plain": [
       "(200, 750, 3)"
      ]
     },
     "execution_count": 20,
     "metadata": {},
     "output_type": "execute_result"
    }
   ],
   "source": [
    "file['F'].shape"
   ]
  },
  {
   "cell_type": "code",
   "execution_count": 21,
   "metadata": {},
   "outputs": [
    {
     "data": {
      "text/plain": [
       "(200, 750, 3)"
      ]
     },
     "execution_count": 21,
     "metadata": {},
     "output_type": "execute_result"
    }
   ],
   "source": [
    "file['R'].shape"
   ]
  },
  {
   "cell_type": "code",
   "execution_count": 22,
   "metadata": {},
   "outputs": [
    {
     "data": {
      "text/plain": [
       "(200,)"
      ]
     },
     "execution_count": 22,
     "metadata": {},
     "output_type": "execute_result"
    }
   ],
   "source": [
    "file['E'].shape"
   ]
  },
  {
   "cell_type": "code",
   "execution_count": null,
   "metadata": {},
   "outputs": [],
   "source": []
  },
  {
   "cell_type": "markdown",
   "metadata": {},
   "source": [
    "## sampling code below"
   ]
  },
  {
   "cell_type": "code",
   "execution_count": 428,
   "metadata": {},
   "outputs": [],
   "source": [
    "ener_og = np.loadtxt('energy.xvg')"
   ]
  },
  {
   "cell_type": "code",
   "execution_count": 418,
   "metadata": {},
   "outputs": [
    {
     "data": {
      "image/png": "[encoded data removed]",
      "text/plain": [
       "<Figure size 864x576 with 1 Axes>"
      ]
     },
     "metadata": {
      "needs_background": "light"
     },
     "output_type": "display_data"
    }
   ],
   "source": [
    "plt.figure(figsize=(12,8))\n",
    "(n, bins, patches) = plt.hist(ener_og[:,1], bins=50)\n",
    "\n",
    "m = statistics.mean(ener_og[:,1])\n",
    "plt.axvline(m, color='black')\n",
    "\n",
    "sd = statistics.stdev(ener_og[:,1])\n",
    "\n",
    "plt.axvline(m + sd, color='red')\n",
    "plt.axvline(m - sd, color='red')\n",
    "\n",
    "plt.axvline(m + 2*sd, color='red')\n",
    "plt.axvline(m - 2*sd, color='red')\n",
    "\n",
    "plt.show()"
   ]
  },
  {
   "cell_type": "code",
   "execution_count": 419,
   "metadata": {},
   "outputs": [],
   "source": [
    "bin_id = []\n",
    "for ener in range(len(ener_og[:,1])):\n",
    "    for b in range(len(bins)):\n",
    "#         if b < 50:\n",
    "#             if (ener_og[:,1][ener] > bins[b]) and (ener_og[:,1][ener] < bins[b+1]):\n",
    "        if ener_og[:,1][ener] <= bins[b]:\n",
    "            bin_id.append((ener_og[:,1][ener],b))\n",
    "            break"
   ]
  },
  {
   "cell_type": "code",
   "execution_count": 420,
   "metadata": {},
   "outputs": [],
   "source": [
    "tmp = np.array(bin_id)"
   ]
  },
  {
   "cell_type": "code",
   "execution_count": 421,
   "metadata": {},
   "outputs": [],
   "source": [
    "tmp_dict = {}\n",
    "for i in range(len(tmp)):\n",
    "    if int(tmp[i][1]) in tmp_dict:\n",
    "        tmp_dict[int(tmp[i][1])].append(i)\n",
    "    else:\n",
    "        tmp_dict[int(tmp[i][1])] = [i]\n",
    "\n",
    "# tmp_dict = OrderedDict(sorted(tmp_dict.items()))"
   ]
  },
  {
   "cell_type": "code",
   "execution_count": 8,
   "metadata": {},
   "outputs": [
    {
     "name": "stdout",
     "output_type": "stream",
     "text": [
      "ener_og shape (8000, 2)\n"
     ]
    },
    {
     "data": {
      "image/png": "[encoded data removed]",
      "text/plain": [
       "<Figure size 432x288 with 1 Axes>"
      ]
     },
     "metadata": {
      "needs_background": "light"
     },
     "output_type": "display_data"
    }
   ],
   "source": [
    "get_distribution('energy.xvg', 200, 2001)"
   ]
  },
  {
   "cell_type": "code",
   "execution_count": 5,
   "metadata": {},
   "outputs": [
    {
     "ename": "NameError",
     "evalue": "name 'bins' is not defined",
     "output_type": "error",
     "traceback": [
      "\u001b[0;31m---------------------------------------------------------------------------\u001b[0m",
      "\u001b[0;31mNameError\u001b[0m                                 Traceback (most recent call last)",
      "\u001b[0;32m<ipython-input-5-cf74185077ee>\u001b[0m in \u001b[0;36m<module>\u001b[0;34m\u001b[0m\n\u001b[1;32m      1\u001b[0m \u001b[0mn_samples\u001b[0m \u001b[0;34m=\u001b[0m \u001b[0;36m200\u001b[0m\u001b[0;34m\u001b[0m\u001b[0;34m\u001b[0m\u001b[0m\n\u001b[0;32m----> 2\u001b[0;31m \u001b[0msampled_bins\u001b[0m \u001b[0;34m=\u001b[0m \u001b[0mnp\u001b[0m\u001b[0;34m.\u001b[0m\u001b[0mrandom\u001b[0m\u001b[0;34m.\u001b[0m\u001b[0mchoice\u001b[0m\u001b[0;34m(\u001b[0m\u001b[0mnp\u001b[0m\u001b[0;34m.\u001b[0m\u001b[0marange\u001b[0m\u001b[0;34m(\u001b[0m\u001b[0mlen\u001b[0m\u001b[0;34m(\u001b[0m\u001b[0mbins\u001b[0m\u001b[0;34m)\u001b[0m\u001b[0;34m)\u001b[0m\u001b[0;34m,\u001b[0m \u001b[0msize\u001b[0m\u001b[0;34m=\u001b[0m\u001b[0mn_samples\u001b[0m\u001b[0;34m+\u001b[0m\u001b[0;36m100\u001b[0m\u001b[0;34m,\u001b[0m \u001b[0mreplace\u001b[0m\u001b[0;34m=\u001b[0m\u001b[0;32mTrue\u001b[0m\u001b[0;34m)\u001b[0m\u001b[0;34m\u001b[0m\u001b[0;34m\u001b[0m\u001b[0m\n\u001b[0m\u001b[1;32m      3\u001b[0m \u001b[0msampled_frames\u001b[0m \u001b[0;34m=\u001b[0m \u001b[0;34m[\u001b[0m\u001b[0;34m]\u001b[0m\u001b[0;34m\u001b[0m\u001b[0;34m\u001b[0m\u001b[0m\n\u001b[1;32m      4\u001b[0m \u001b[0mcounter\u001b[0m \u001b[0;34m=\u001b[0m \u001b[0;36m0\u001b[0m\u001b[0;34m\u001b[0m\u001b[0;34m\u001b[0m\u001b[0m\n\u001b[1;32m      5\u001b[0m \u001b[0;32mwhile\u001b[0m \u001b[0mlen\u001b[0m\u001b[0;34m(\u001b[0m\u001b[0msampled_frames\u001b[0m\u001b[0;34m)\u001b[0m \u001b[0;34m<\u001b[0m \u001b[0mn_samples\u001b[0m\u001b[0;34m:\u001b[0m\u001b[0;34m\u001b[0m\u001b[0;34m\u001b[0m\u001b[0m\n",
      "\u001b[0;31mNameError\u001b[0m: name 'bins' is not defined"
     ]
    }
   ],
   "source": [
    "n_samples = 200\n",
    "sampled_bins = np.random.choice(np.arange(len(bins)), size=n_samples+100, replace=True)\n",
    "sampled_frames = []\n",
    "counter = 0\n",
    "while len(sampled_frames) < n_samples:\n",
    "    bin_idx = sampled_bins[counter]\n",
    "    try:\n",
    "        frame_idxs = tmp_dict[bin_idx]\n",
    "        sel_frame_idx = np.random.choice(frame_idxs, size=1, replace=False)[0]\n",
    "        sampled_frames.append(sel_frame_idx)\n",
    "    except:\n",
    "        pass\n",
    "    counter += 1\n",
    "    "
   ]
  },
  {
   "cell_type": "code",
   "execution_count": 440,
   "metadata": {},
   "outputs": [
    {
     "data": {
      "text/plain": [
       "(200,)"
      ]
     },
     "execution_count": 440,
     "metadata": {},
     "output_type": "execute_result"
    }
   ],
   "source": [
    "ener_og[sampled_frames,1].shape"
   ]
  },
  {
   "cell_type": "code",
   "execution_count": 425,
   "metadata": {},
   "outputs": [
    {
     "data": {
      "image/png": "[encoded data removed]",
      "text/plain": [
       "<Figure size 432x288 with 1 Axes>"
      ]
     },
     "metadata": {
      "needs_background": "light"
     },
     "output_type": "display_data"
    }
   ],
   "source": [
    "plt.hist(ener_og[sampled_frames,1])\n",
    "plt.show()"
   ]
  },
  {
   "cell_type": "code",
   "execution_count": 379,
   "metadata": {},
   "outputs": [
    {
     "data": {
      "text/plain": [
       "200"
      ]
     },
     "execution_count": 379,
     "metadata": {},
     "output_type": "execute_result"
    }
   ],
   "source": [
    "len(sampled_frames)"
   ]
  }
 ],
 "metadata": {
  "kernelspec": {
   "display_name": "Python 3",
   "language": "python",
   "name": "python3"
  },
  "language_info": {
   "codemirror_mode": {
    "name": "ipython",
    "version": 3
   },
   "file_extension": ".py",
   "mimetype": "text/x-python",
   "name": "python",
   "nbconvert_exporter": "python",
   "pygments_lexer": "ipython3",
   "version": "3.8.8"
  }
 },
 "nbformat": 4,
 "nbformat_minor": 2
}
